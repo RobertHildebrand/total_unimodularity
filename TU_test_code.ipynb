{
 "cells": [
  {
   "cell_type": "code",
   "execution_count": 37,
   "metadata": {},
   "outputs": [
    {
     "name": "stdout",
     "output_type": "stream",
     "text": [
      "test matrix\n",
      "[[1 0 0 1 0 1 1 1]\n",
      " [0 0 0 1 1 1 1 1]\n",
      " [1 0 0 0 1 1 1 1]]\n",
      "The matrix is not totally unimodular. The following submatrix is not unimodular:\n",
      "[[1 1 0]\n",
      " [0 1 1]\n",
      " [1 0 1]]\n",
      "This matrix has determinant: 2.0\n",
      "Row indices: 0, 1, 2\n",
      "Column indices: 0, 3, 4\n"
     ]
    }
   ],
   "source": [
    "import numpy as np\n",
    "import itertools\n",
    "\n",
    "def find_non_unimodular_submatrix(matrix):\n",
    "    \"\"\"\n",
    "    Finds a submatrix of a matrix that is not totally unimodular, and returns the submatrix as well as the row and column indices.\n",
    "    \n",
    "    Args:\n",
    "    matrix: a numpy array representing the matrix.\n",
    "    \n",
    "    Returns:\n",
    "    A tuple (submatrix, rows, cols) where submatrix is the submatrix that is not totally unimodular, and rows and cols are the row and column indices of the submatrix, respectively.\n",
    "    If the matrix is totally unimodular, returns (None, None, None).\n",
    "    \"\"\"\n",
    "    m, n = matrix.shape\n",
    "\n",
    "    for k in range(1, m+1):\n",
    "        for rows in itertools.combinations(range(m), k):\n",
    "            for cols in itertools.combinations(range(n), k):\n",
    "                submatrix = matrix[np.ix_(rows, cols)]  # extract the submatrix\n",
    "                det = np.linalg.det(submatrix)\n",
    "                if abs(det) != 0 and abs(det) != 1:\n",
    "                    return submatrix, rows, cols, det  # not totally unimodular\n",
    "    return None, None, None, None  # totally unimodular\n",
    "\n",
    "def print_non_unimodular_submatrix(matrix):\n",
    "    \"\"\"\n",
    "    Finds and prints a submatrix of a matrix that is not totally unimodular, as well as the row and column indices.\n",
    "    If the matrix is totally unimodular, prints a message saying so.\n",
    "    \n",
    "    Args:\n",
    "    matrix: a numpy array representing the matrix.\n",
    "    \"\"\"\n",
    "    submatrix, rows, cols, det = find_non_unimodular_submatrix(matrix)\n",
    "    if submatrix is not None:\n",
    "        print(\"The matrix is not totally unimodular. The following submatrix is not unimodular:\")\n",
    "        print(submatrix)\n",
    "        print(f\"This matrix has determinant: {det}\")\n",
    "        print(f\"Row indices: {', '.join(str(row) for row in rows)}\")\n",
    "        print(f\"Column indices: {', '.join(str(col) for col in cols)}\")\n",
    "    else:\n",
    "        print(\"The matrix is totally unimodular.\")\n",
    "\n",
    "# Example usage:\n",
    "print(\"test matrix\")\n",
    "matrix = np.array([[1, 0,0,1, 0,1,1,1], [0, 0,0,1, 1,1,1,1], [1, 0,0,0, 1,1,1,1]])\n",
    "print(matrix)\n",
    "print_non_unimodular_submatrix(matrix)\n"
   ]
  },
  {
   "cell_type": "code",
   "execution_count": 38,
   "metadata": {},
   "outputs": [
    {
     "name": "stdout",
     "output_type": "stream",
     "text": [
      "[[ 1  0  0  0 -1  0 -1  0]\n",
      " [ 0  1  0  0 -1  0  0 -1]\n",
      " [ 0  0  1  0  0 -1 -1  0]\n",
      " [ 0  0  0  1  0 -1  0 -1]\n",
      " [ 0  0  0  0  1  1  1  1]]\n",
      "The matrix is totally unimodular.\n"
     ]
    }
   ],
   "source": [
    "matrix = np.array([\n",
    "    [1, 0,0,0,-1,0,-1,0],\n",
    "    [0,1,0,0,-1,0,0,-1],\n",
    "    [0,0,1,0,0,-1,-1,0],\n",
    "    [0,0,0,1,0,-1,0,-1],\n",
    "     [0,0,0,0,1,1,1,1]])\n",
    "print(matrix)\n",
    "print_non_unimodular_submatrix(matrix)"
   ]
  },
  {
   "cell_type": "code",
   "execution_count": 39,
   "metadata": {},
   "outputs": [
    {
     "name": "stdout",
     "output_type": "stream",
     "text": [
      "[[ 1  0  0 -1 -1  0  0]\n",
      " [ 0  1  0 -1  0 -1  0]\n",
      " [ 0  0  1 -1  0  0 -1]\n",
      " [ 0  0  0  1  1  1  1]]\n",
      "The matrix is not totally unimodular. The following submatrix is not unimodular:\n",
      "[[-1 -1  0  0]\n",
      " [-1  0 -1  0]\n",
      " [-1  0  0 -1]\n",
      " [ 1  1  1  1]]\n",
      "This matrix has determinant: -2.0\n",
      "Row indices: 0, 1, 2, 3\n",
      "Column indices: 3, 4, 5, 6\n"
     ]
    }
   ],
   "source": [
    "matrix = np.array([\n",
    "    [1,0,0,-1,-1,0,0],\n",
    "    [0,1,0,-1,0,-1,0],\n",
    "    [0,0,1,-1, 0,0,-1],\n",
    "     [0,0,0,1,1,1,1]])\n",
    "print(matrix)\n",
    "print_non_unimodular_submatrix(matrix)"
   ]
  },
  {
   "cell_type": "code",
   "execution_count": null,
   "metadata": {},
   "outputs": [],
   "source": []
  }
 ],
 "metadata": {
  "kernelspec": {
   "display_name": "Python 3",
   "language": "python",
   "name": "python3"
  },
  "language_info": {
   "codemirror_mode": {
    "name": "ipython",
    "version": 3
   },
   "file_extension": ".py",
   "mimetype": "text/x-python",
   "name": "python",
   "nbconvert_exporter": "python",
   "pygments_lexer": "ipython3",
   "version": "3.8.5"
  }
 },
 "nbformat": 4,
 "nbformat_minor": 4
}
